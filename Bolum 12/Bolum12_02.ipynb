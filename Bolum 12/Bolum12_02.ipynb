{
  "nbformat": 4,
  "nbformat_minor": 0,
  "metadata": {
    "colab": {
      "provenance": []
    },
    "kernelspec": {
      "name": "python3",
      "display_name": "Python 3"
    },
    "language_info": {
      "name": "python"
    }
  },
  "cells": [
    {
      "cell_type": "markdown",
      "source": [
        "Ön hazırlık (kütüphane kurulumu)"
      ],
      "metadata": {
        "id": "HkikwNrKNzeD"
      }
    },
    {
      "cell_type": "code",
      "execution_count": 1,
      "metadata": {
        "colab": {
          "base_uri": "https://localhost:8080/"
        },
        "id": "anfl_eMVNzeD",
        "outputId": "deedbf1b-0e1d-4e35-8942-08ff5ee36777"
      },
      "outputs": [
        {
          "output_type": "stream",
          "name": "stdout",
          "text": [
            "\u001b[?25l   \u001b[90m━━━━━━━━━━━━━━━━━━━━━━━━━━━━━━━━━━━━━━━━\u001b[0m \u001b[32m0.0/2.0 MB\u001b[0m \u001b[31m?\u001b[0m eta \u001b[36m-:--:--\u001b[0m\r\u001b[2K   \u001b[91m━━━━━━━━━━━━━━━━\u001b[0m\u001b[90m╺\u001b[0m\u001b[90m━━━━━━━━━━━━━━━━━━━━━━━\u001b[0m \u001b[32m0.8/2.0 MB\u001b[0m \u001b[31m24.1 MB/s\u001b[0m eta \u001b[36m0:00:01\u001b[0m\r\u001b[2K   \u001b[90m━━━━━━━━━━━━━━━━━━━━━━━━━━━━━━━━━━━━━━━━\u001b[0m \u001b[32m2.0/2.0 MB\u001b[0m \u001b[31m29.5 MB/s\u001b[0m eta \u001b[36m0:00:00\u001b[0m\n",
            "\u001b[?25h\u001b[?25l   \u001b[90m━━━━━━━━━━━━━━━━━━━━━━━━━━━━━━━━━━━━━━━━\u001b[0m \u001b[32m0.0/670.8 kB\u001b[0m \u001b[31m?\u001b[0m eta \u001b[36m-:--:--\u001b[0m\r\u001b[2K   \u001b[90m━━━━━━━━━━━━━━━━━━━━━━━━━━━━━━━━━━━━━━━━\u001b[0m \u001b[32m670.8/670.8 kB\u001b[0m \u001b[31m35.9 MB/s\u001b[0m eta \u001b[36m0:00:00\u001b[0m\n",
            "\u001b[2K   \u001b[90m━━━━━━━━━━━━━━━━━━━━━━━━━━━━━━━━━━━━━━━━\u001b[0m \u001b[32m73.5/73.5 kB\u001b[0m \u001b[31m4.8 MB/s\u001b[0m eta \u001b[36m0:00:00\u001b[0m\n",
            "\u001b[2K   \u001b[90m━━━━━━━━━━━━━━━━━━━━━━━━━━━━━━━━━━━━━━━━\u001b[0m \u001b[32m430.5/430.5 kB\u001b[0m \u001b[31m25.6 MB/s\u001b[0m eta \u001b[36m0:00:00\u001b[0m\n",
            "\u001b[2K   \u001b[90m━━━━━━━━━━━━━━━━━━━━━━━━━━━━━━━━━━━━━━━━\u001b[0m \u001b[32m8.0/8.0 MB\u001b[0m \u001b[31m104.4 MB/s\u001b[0m eta \u001b[36m0:00:00\u001b[0m\n",
            "\u001b[2K   \u001b[90m━━━━━━━━━━━━━━━━━━━━━━━━━━━━━━━━━━━━━━━━\u001b[0m \u001b[32m31.8/31.8 MB\u001b[0m \u001b[31m48.3 MB/s\u001b[0m eta \u001b[36m0:00:00\u001b[0m\n",
            "\u001b[2K   \u001b[90m━━━━━━━━━━━━━━━━━━━━━━━━━━━━━━━━━━━━━━━━\u001b[0m \u001b[32m2.2/2.2 MB\u001b[0m \u001b[31m72.1 MB/s\u001b[0m eta \u001b[36m0:00:00\u001b[0m\n",
            "\u001b[2K   \u001b[90m━━━━━━━━━━━━━━━━━━━━━━━━━━━━━━━━━━━━━━━━\u001b[0m \u001b[32m49.5/49.5 kB\u001b[0m \u001b[31m3.3 MB/s\u001b[0m eta \u001b[36m0:00:00\u001b[0m\n",
            "\u001b[2K   \u001b[90m━━━━━━━━━━━━━━━━━━━━━━━━━━━━━━━━━━━━━━━━\u001b[0m \u001b[32m2.8/2.8 MB\u001b[0m \u001b[31m76.5 MB/s\u001b[0m eta \u001b[36m0:00:00\u001b[0m\n",
            "\u001b[?25h"
          ]
        }
      ],
      "source": [
        "# Gerekli kütüphaneleri yükleyelim (Colab hücresine)\n",
        "!pip install cirq qiskit qutip numpy matplotlib --quiet"
      ]
    },
    {
      "cell_type": "markdown",
      "source": [
        "Qiskit ile Genelleştirilmiş Ölçme"
      ],
      "metadata": {
        "id": "2N5cAQHlRBSC"
      }
    },
    {
      "cell_type": "code",
      "source": [
        "from qiskit import Aer, execute\n",
        "from qiskit.quantum_info import DensityMatrix, Operator\n",
        "import numpy as np\n",
        "\n",
        "# Yoğunluk matrisi: ρ = 5/6 |0><0| + 1/6 |0><1|\n",
        "rho = DensityMatrix([[5/6, 1/6],\n",
        "                     [0,   1/6]])  # not: Qiskit yoğunluk matrisi 2x2 numpy array\n",
        "\n",
        "# Ölçüm operatörü: M = |0><0|\n",
        "M = Operator([[1,0],[0,0]])\n",
        "\n",
        "# Ölçüm olasılığı P = Tr(M^† M ρ)\n",
        "P = np.trace(M.data.conj().T @ M.data @ rho.data)\n",
        "print(\"Ölçüm olasılığı P(|0>) =\", P)\n"
      ],
      "metadata": {
        "colab": {
          "base_uri": "https://localhost:8080/",
          "height": 384
        },
        "id": "fwkT_mvoRBW5",
        "outputId": "318c0218-beaf-4e86-b590-78f4902eff23"
      },
      "execution_count": 2,
      "outputs": [
        {
          "output_type": "error",
          "ename": "ImportError",
          "evalue": "cannot import name 'Aer' from 'qiskit' (/usr/local/lib/python3.12/dist-packages/qiskit/__init__.py)",
          "traceback": [
            "\u001b[0;31m---------------------------------------------------------------------------\u001b[0m",
            "\u001b[0;31mImportError\u001b[0m                               Traceback (most recent call last)",
            "\u001b[0;32m/tmp/ipython-input-1094818613.py\u001b[0m in \u001b[0;36m<cell line: 0>\u001b[0;34m()\u001b[0m\n\u001b[0;32m----> 1\u001b[0;31m \u001b[0;32mfrom\u001b[0m \u001b[0mqiskit\u001b[0m \u001b[0;32mimport\u001b[0m \u001b[0mAer\u001b[0m\u001b[0;34m,\u001b[0m \u001b[0mexecute\u001b[0m\u001b[0;34m\u001b[0m\u001b[0;34m\u001b[0m\u001b[0m\n\u001b[0m\u001b[1;32m      2\u001b[0m \u001b[0;32mfrom\u001b[0m \u001b[0mqiskit\u001b[0m\u001b[0;34m.\u001b[0m\u001b[0mquantum_info\u001b[0m \u001b[0;32mimport\u001b[0m \u001b[0mDensityMatrix\u001b[0m\u001b[0;34m,\u001b[0m \u001b[0mOperator\u001b[0m\u001b[0;34m\u001b[0m\u001b[0;34m\u001b[0m\u001b[0m\n\u001b[1;32m      3\u001b[0m \u001b[0;32mimport\u001b[0m \u001b[0mnumpy\u001b[0m \u001b[0;32mas\u001b[0m \u001b[0mnp\u001b[0m\u001b[0;34m\u001b[0m\u001b[0;34m\u001b[0m\u001b[0m\n\u001b[1;32m      4\u001b[0m \u001b[0;34m\u001b[0m\u001b[0m\n\u001b[1;32m      5\u001b[0m \u001b[0;31m# Yoğunluk matrisi: ρ = 5/6 |0><0| + 1/6 |0><1|\u001b[0m\u001b[0;34m\u001b[0m\u001b[0;34m\u001b[0m\u001b[0m\n",
            "\u001b[0;31mImportError\u001b[0m: cannot import name 'Aer' from 'qiskit' (/usr/local/lib/python3.12/dist-packages/qiskit/__init__.py)",
            "",
            "\u001b[0;31m---------------------------------------------------------------------------\u001b[0;32m\nNOTE: If your import is failing due to a missing package, you can\nmanually install dependencies using either !pip or !apt.\n\nTo view examples of installing some common dependencies, click the\n\"Open Examples\" button below.\n\u001b[0;31m---------------------------------------------------------------------------\u001b[0m\n"
          ],
          "errorDetails": {
            "actions": [
              {
                "action": "open_url",
                "actionText": "Open Examples",
                "url": "/notebooks/snippets/importing_libraries.ipynb"
              }
            ]
          }
        }
      ]
    },
    {
      "cell_type": "markdown",
      "source": [
        "QuTiP ile Genelleştirilmiş Ölçme"
      ],
      "metadata": {
        "id": "U9XAVWZbRBbn"
      }
    },
    {
      "cell_type": "code",
      "source": [
        "import qutip as qt\n",
        "\n",
        "# Yoğunluk matrisi ρ = 5/6 |0><0| + 1/6 |0><1|\n",
        "rho = 5/6 * qt.basis(2,0)*qt.basis(2,0).dag() + 1/6 * qt.basis(2,0)*qt.basis(2,1).dag()\n",
        "\n",
        "# Ölçüm operatörü M = |0><0|\n",
        "M = qt.basis(2,0)*qt.basis(2,0).dag()\n",
        "\n",
        "# Ölçüm olasılığı P = Tr(M^† M ρ)\n",
        "P = (M.dag() * M * rho).tr()\n",
        "print(\"Ölçüm olasılığı P(|0>) =\", P)\n",
        "\n",
        "# Ölçüm sonrası durum\n",
        "psi_prime = (M * rho).unit()\n",
        "print(\"Ölçüm sonrası durum ρ':\\n\", psi_prime)\n"
      ],
      "metadata": {
        "colab": {
          "base_uri": "https://localhost:8080/"
        },
        "id": "2KmBMl7JRBgO",
        "outputId": "fc40766b-7cc0-4b28-abc3-7692871d7c72"
      },
      "execution_count": 3,
      "outputs": [
        {
          "output_type": "stream",
          "name": "stdout",
          "text": [
            "Ölçüm olasılığı P(|0>) = (0.8333333333333334+0j)\n",
            "Ölçüm sonrası durum ρ':\n",
            " Quantum object: dims=[[2], [2]], shape=(2, 2), type='oper', dtype=CSR, isherm=False\n",
            "Qobj data =\n",
            "[[0.98058068 0.19611614]\n",
            " [0.         0.        ]]\n"
          ]
        }
      ]
    },
    {
      "cell_type": "markdown",
      "source": [
        "Cirq ile Genelleştirilmiş Ölçme Örneği\n",
        "\n",
        "Örneğimiz:\n",
        "\n",
        "𝜌\n",
        "=\n",
        "5\n",
        "6\n",
        "∣\n",
        "0\n",
        "⟩\n",
        "⟨\n",
        "0\n",
        "∣\n",
        "+\n",
        "1\n",
        "6\n",
        "∣\n",
        "0\n",
        "⟩\n",
        "⟨\n",
        "1\n",
        "∣\n",
        ",\n",
        "𝑀\n",
        "=\n",
        "∣\n",
        "0\n",
        "⟩\n",
        "⟨\n",
        "0\n",
        "∣\n",
        "ρ=\n",
        "6\n",
        "5\n",
        "\t​\n",
        "\n",
        "∣0⟩⟨0∣+\n",
        "6\n",
        "1\n",
        "\t​\n",
        "\n",
        "∣0⟩⟨1∣,M=∣0⟩⟨0∣"
      ],
      "metadata": {
        "id": "nJBdJbXPRBlL"
      }
    },
    {
      "cell_type": "code",
      "source": [
        "import cirq\n",
        "import numpy as np\n",
        "\n",
        "# Qubit oluştur\n",
        "q = cirq.LineQubit(0)\n",
        "\n",
        "# Yoğunluk matrisi: ρ = 5/6 |0><0| + 1/6 |0><1|\n",
        "rho = np.array([[5/6, 1/6],\n",
        "                [0,   0]])\n",
        "\n",
        "# Ölçüm operatörü M = |0><0|\n",
        "M = np.array([[1, 0],\n",
        "              [0, 0]])\n",
        "\n",
        "# Ölçüm olasılığı: P = Tr(M^† M ρ)\n",
        "P = np.trace(M.conj().T @ M @ rho)\n",
        "print(\"Ölçüm olasılığı P(|0>) =\", P)\n",
        "\n",
        "# Ölçüm sonrası durum\n",
        "rho_prime = (M @ rho @ M.conj().T) / P\n",
        "print(\"Ölçüm sonrası yoğunluk matrisi ρ':\\n\", rho_prime)\n"
      ],
      "metadata": {
        "colab": {
          "base_uri": "https://localhost:8080/"
        },
        "id": "QwlD2YdyRBqY",
        "outputId": "d4b33b80-8346-450d-e877-af77f456ba2a"
      },
      "execution_count": 4,
      "outputs": [
        {
          "output_type": "stream",
          "name": "stdout",
          "text": [
            "Ölçüm olasılığı P(|0>) = 0.8333333333333334\n",
            "Ölçüm sonrası yoğunluk matrisi ρ':\n",
            " [[1. 0.]\n",
            " [0. 0.]]\n"
          ]
        }
      ]
    },
    {
      "cell_type": "code",
      "execution_count": 5,
      "metadata": {
        "id": "8W4kseH1Qykw"
      },
      "outputs": [],
      "source": [
        "sim = cirq.DensityMatrixSimulator()\n"
      ]
    }
  ]
}