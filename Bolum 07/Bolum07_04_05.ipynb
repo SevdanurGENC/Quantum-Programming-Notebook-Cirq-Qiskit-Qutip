{
  "nbformat": 4,
  "nbformat_minor": 0,
  "metadata": {
    "colab": {
      "provenance": []
    },
    "kernelspec": {
      "name": "python3",
      "display_name": "Python 3"
    },
    "language_info": {
      "name": "python"
    }
  },
  "cells": [
    {
      "cell_type": "markdown",
      "source": [
        "Ön hazırlık (kütüphane kurulumu)"
      ],
      "metadata": {
        "id": "HkikwNrKNzeD"
      }
    },
    {
      "cell_type": "code",
      "execution_count": 1,
      "metadata": {
        "colab": {
          "base_uri": "https://localhost:8080/"
        },
        "id": "anfl_eMVNzeD",
        "outputId": "13ffcd20-3458-47cc-d220-500605272eac"
      },
      "outputs": [
        {
          "output_type": "stream",
          "name": "stdout",
          "text": [
            "\u001b[?25l   \u001b[90m━━━━━━━━━━━━━━━━━━━━━━━━━━━━━━━━━━━━━━━━\u001b[0m \u001b[32m0.0/2.0 MB\u001b[0m \u001b[31m?\u001b[0m eta \u001b[36m-:--:--\u001b[0m\r\u001b[2K   \u001b[90m━━━━━━━━━━━━━━━━━━━━━━━━━━━━━━━━━━━━━━━━\u001b[0m \u001b[32m2.0/2.0 MB\u001b[0m \u001b[31m74.3 MB/s\u001b[0m eta \u001b[36m0:00:00\u001b[0m\n",
            "\u001b[?25h\u001b[?25l   \u001b[90m━━━━━━━━━━━━━━━━━━━━━━━━━━━━━━━━━━━━━━━━\u001b[0m \u001b[32m0.0/670.8 kB\u001b[0m \u001b[31m?\u001b[0m eta \u001b[36m-:--:--\u001b[0m\r\u001b[2K   \u001b[90m━━━━━━━━━━━━━━━━━━━━━━━━━━━━━━━━━━━━━━━━\u001b[0m \u001b[32m670.8/670.8 kB\u001b[0m \u001b[31m41.4 MB/s\u001b[0m eta \u001b[36m0:00:00\u001b[0m\n",
            "\u001b[2K   \u001b[90m━━━━━━━━━━━━━━━━━━━━━━━━━━━━━━━━━━━━━━━━\u001b[0m \u001b[32m73.5/73.5 kB\u001b[0m \u001b[31m4.9 MB/s\u001b[0m eta \u001b[36m0:00:00\u001b[0m\n",
            "\u001b[2K   \u001b[90m━━━━━━━━━━━━━━━━━━━━━━━━━━━━━━━━━━━━━━━━\u001b[0m \u001b[32m430.5/430.5 kB\u001b[0m \u001b[31m30.1 MB/s\u001b[0m eta \u001b[36m0:00:00\u001b[0m\n",
            "\u001b[2K   \u001b[90m━━━━━━━━━━━━━━━━━━━━━━━━━━━━━━━━━━━━━━━━\u001b[0m \u001b[32m8.0/8.0 MB\u001b[0m \u001b[31m120.3 MB/s\u001b[0m eta \u001b[36m0:00:00\u001b[0m\n",
            "\u001b[2K   \u001b[90m━━━━━━━━━━━━━━━━━━━━━━━━━━━━━━━━━━━━━━━━\u001b[0m \u001b[32m31.8/31.8 MB\u001b[0m \u001b[31m51.4 MB/s\u001b[0m eta \u001b[36m0:00:00\u001b[0m\n",
            "\u001b[2K   \u001b[90m━━━━━━━━━━━━━━━━━━━━━━━━━━━━━━━━━━━━━━━━\u001b[0m \u001b[32m2.2/2.2 MB\u001b[0m \u001b[31m87.5 MB/s\u001b[0m eta \u001b[36m0:00:00\u001b[0m\n",
            "\u001b[2K   \u001b[90m━━━━━━━━━━━━━━━━━━━━━━━━━━━━━━━━━━━━━━━━\u001b[0m \u001b[32m49.5/49.5 kB\u001b[0m \u001b[31m4.0 MB/s\u001b[0m eta \u001b[36m0:00:00\u001b[0m\n",
            "\u001b[2K   \u001b[90m━━━━━━━━━━━━━━━━━━━━━━━━━━━━━━━━━━━━━━━━\u001b[0m \u001b[32m2.8/2.8 MB\u001b[0m \u001b[31m84.0 MB/s\u001b[0m eta \u001b[36m0:00:00\u001b[0m\n",
            "\u001b[?25h"
          ]
        }
      ],
      "source": [
        "# Gerekli kütüphaneleri yükleyelim (Colab hücresine)\n",
        "!pip install cirq qiskit qutip numpy matplotlib --quiet"
      ]
    },
    {
      "cell_type": "markdown",
      "source": [
        "A — Örnek 1:\n",
        "∣\n",
        "𝜓\n",
        "⟩\n",
        "=\n",
        "1\n",
        "2\n",
        "(\n",
        "∣\n",
        "0\n",
        "⟩\n",
        "+\n",
        "∣\n",
        "1\n",
        "⟩\n",
        ")\n",
        "∣ψ⟩=\n",
        "2\n",
        "\t​\n",
        "\n",
        "1\n",
        "\t​\n",
        "\n",
        "(∣0⟩+∣1⟩) için klasik kopya vs CNOT sonucu\n",
        "Cirq (matris + statevector ile)"
      ],
      "metadata": {
        "id": "twWNxd8X2Svk"
      }
    },
    {
      "cell_type": "code",
      "execution_count": 2,
      "metadata": {
        "colab": {
          "base_uri": "https://localhost:8080/"
        },
        "id": "wz9xTb2S08xA",
        "outputId": "186ff8d3-ea93-4c01-ea5d-ae03c1821821"
      },
      "outputs": [
        {
          "output_type": "stream",
          "name": "stdout",
          "text": [
            "Cirq — psi ⊗ psi (klasik kopya):\n",
            "[0.5+0.j 0.5+0.j 0.5+0.j 0.5+0.j]\n",
            "\n",
            "Cirq — CNOT (|psi>|0>) sonucu:\n",
            "[0.707107+0.j 0.      +0.j 0.      +0.j 0.707107+0.j]\n"
          ]
        }
      ],
      "source": [
        "import numpy as np\n",
        "import cirq\n",
        "\n",
        "# tek-qubit |0> ve |1>\n",
        "ket0 = np.array([1,0], dtype=complex)\n",
        "ket1 = np.array([0,1], dtype=complex)\n",
        "\n",
        "# psi = (|0> + |1>) / sqrt(2)\n",
        "psi = (ket0 + ket1) / np.sqrt(2)\n",
        "\n",
        "# klasik (ideal) kopya: psi ⊗ psi\n",
        "classical_clone = np.kron(psi, psi)\n",
        "\n",
        "# CNOT matrisi (Cirq)\n",
        "cnot_mat = cirq.unitary(cirq.CNOT)\n",
        "# başlangıç |psi>|0>\n",
        "init = np.kron(psi, ket0)\n",
        "cnot_result = cnot_mat @ init\n",
        "\n",
        "print(\"Cirq — psi ⊗ psi (klasik kopya):\")\n",
        "print(np.round(classical_clone, 6))\n",
        "print(\"\\nCirq — CNOT (|psi>|0>) sonucu:\")\n",
        "print(np.round(cnot_result, 6))\n"
      ]
    },
    {
      "cell_type": "markdown",
      "source": [
        "Qiskit (Statevector ile)"
      ],
      "metadata": {
        "id": "XgghPFYV2YMv"
      }
    },
    {
      "cell_type": "code",
      "source": [
        "import numpy as np\n",
        "from qiskit.quantum_info import Statevector\n",
        "from qiskit import QuantumCircuit\n",
        "\n",
        "# psi\n",
        "psi = (1/np.sqrt(2)) * np.array([1,1], dtype=complex)\n",
        "\n",
        "# klasik kopya:\n",
        "classical_clone = np.kron(psi, psi)\n",
        "\n",
        "# Qiskit: initialize psi on qubit 0, qubit1 is |0>, apply CX\n",
        "qc = QuantumCircuit(2)\n",
        "qc.initialize(psi, 0)\n",
        "qc.cx(0,1)\n",
        "\n",
        "state_after = Statevector.from_instruction(qc).data\n",
        "\n",
        "print(\"Qiskit — psi⊗psi (klasik):\", np.round(classical_clone,6))\n",
        "print(\"Qiskit — CNOT(|psi>|0>):\", np.round(state_after,6))\n"
      ],
      "metadata": {
        "colab": {
          "base_uri": "https://localhost:8080/"
        },
        "id": "vsj3CvG02YwS",
        "outputId": "50f6a41c-c7cc-4192-b318-07adcababfdf"
      },
      "execution_count": 3,
      "outputs": [
        {
          "output_type": "stream",
          "name": "stdout",
          "text": [
            "Qiskit — psi⊗psi (klasik): [0.5+0.j 0.5+0.j 0.5+0.j 0.5+0.j]\n",
            "Qiskit — CNOT(|psi>|0>): [0.707107+0.j 0.      +0.j 0.      +0.j 0.707107+0.j]\n"
          ]
        }
      ]
    },
    {
      "cell_type": "markdown",
      "source": [
        "QuTiP (tensor ile)"
      ],
      "metadata": {
        "id": "RQh2VSm_2eM7"
      }
    },
    {
      "cell_type": "code",
      "source": [
        "import numpy as np\n",
        "from qutip import basis, tensor\n",
        "from qutip.qip.operations import cnot\n",
        "\n",
        "# psi (QuTiP Qobj)\n",
        "psi_q = (basis(2,0) + basis(2,1)).unit()\n",
        "classical_clone_q = tensor(psi_q, psi_q)\n",
        "\n",
        "# başlangıç psi ⊗ |0>\n",
        "init = tensor(psi_q, basis(2,0))\n",
        "final = cnot() * init\n",
        "\n",
        "print(\"QuTiP — klasik clone (psi⊗psi):\\n\", classical_clone_q)\n",
        "print(\"QuTiP — CNOT(|psi>|0>):\\n\", final)\n"
      ],
      "metadata": {
        "colab": {
          "base_uri": "https://localhost:8080/",
          "height": 599
        },
        "id": "ckZpPpVm2gwU",
        "outputId": "3a1b5c08-8ed3-4dae-f7a8-7d23de9e5972"
      },
      "execution_count": 4,
      "outputs": [
        {
          "output_type": "error",
          "ename": "ImportError",
          "evalue": "Importing 'qutip.qip' requires the 'qutip_qip' package. Install it with `pip install qutip-qip` (for more details, go to https://qutip-qip.readthedocs.io/).",
          "traceback": [
            "\u001b[0;31m---------------------------------------------------------------------------\u001b[0m",
            "\u001b[0;31mModuleNotFoundError\u001b[0m                       Traceback (most recent call last)",
            "\u001b[0;32m/usr/local/lib/python3.12/dist-packages/qutip/qip.py\u001b[0m in \u001b[0;36m<module>\u001b[0;34m\u001b[0m\n\u001b[1;32m      4\u001b[0m \u001b[0;32mtry\u001b[0m\u001b[0;34m:\u001b[0m\u001b[0;34m\u001b[0m\u001b[0;34m\u001b[0m\u001b[0m\n\u001b[0;32m----> 5\u001b[0;31m     \u001b[0;32mimport\u001b[0m \u001b[0mqutip_qip\u001b[0m\u001b[0;34m\u001b[0m\u001b[0;34m\u001b[0m\u001b[0m\n\u001b[0m\u001b[1;32m      6\u001b[0m     \u001b[0;32mdel\u001b[0m \u001b[0mqutip_qip\u001b[0m\u001b[0;34m\u001b[0m\u001b[0;34m\u001b[0m\u001b[0m\n",
            "\u001b[0;31mModuleNotFoundError\u001b[0m: No module named 'qutip_qip'",
            "\nDuring handling of the above exception, another exception occurred:\n",
            "\u001b[0;31mImportError\u001b[0m                               Traceback (most recent call last)",
            "\u001b[0;32m/tmp/ipython-input-3696426667.py\u001b[0m in \u001b[0;36m<cell line: 0>\u001b[0;34m()\u001b[0m\n\u001b[1;32m      1\u001b[0m \u001b[0;32mimport\u001b[0m \u001b[0mnumpy\u001b[0m \u001b[0;32mas\u001b[0m \u001b[0mnp\u001b[0m\u001b[0;34m\u001b[0m\u001b[0;34m\u001b[0m\u001b[0m\n\u001b[1;32m      2\u001b[0m \u001b[0;32mfrom\u001b[0m \u001b[0mqutip\u001b[0m \u001b[0;32mimport\u001b[0m \u001b[0mbasis\u001b[0m\u001b[0;34m,\u001b[0m \u001b[0mtensor\u001b[0m\u001b[0;34m\u001b[0m\u001b[0;34m\u001b[0m\u001b[0m\n\u001b[0;32m----> 3\u001b[0;31m \u001b[0;32mfrom\u001b[0m \u001b[0mqutip\u001b[0m\u001b[0;34m.\u001b[0m\u001b[0mqip\u001b[0m\u001b[0;34m.\u001b[0m\u001b[0moperations\u001b[0m \u001b[0;32mimport\u001b[0m \u001b[0mcnot\u001b[0m\u001b[0;34m\u001b[0m\u001b[0;34m\u001b[0m\u001b[0m\n\u001b[0m\u001b[1;32m      4\u001b[0m \u001b[0;34m\u001b[0m\u001b[0m\n\u001b[1;32m      5\u001b[0m \u001b[0;31m# psi (QuTiP Qobj)\u001b[0m\u001b[0;34m\u001b[0m\u001b[0;34m\u001b[0m\u001b[0m\n",
            "\u001b[0;32m/usr/local/lib/python3.12/dist-packages/qutip/qip.py\u001b[0m in \u001b[0;36m<module>\u001b[0;34m\u001b[0m\n\u001b[1;32m      7\u001b[0m     \u001b[0msys\u001b[0m\u001b[0;34m.\u001b[0m\u001b[0mmodules\u001b[0m\u001b[0;34m[\u001b[0m\u001b[0;34m\"qutip.qip\"\u001b[0m\u001b[0;34m]\u001b[0m \u001b[0;34m=\u001b[0m \u001b[0msys\u001b[0m\u001b[0;34m.\u001b[0m\u001b[0mmodules\u001b[0m\u001b[0;34m[\u001b[0m\u001b[0;34m\"qutip_qip\"\u001b[0m\u001b[0;34m]\u001b[0m\u001b[0;34m\u001b[0m\u001b[0;34m\u001b[0m\u001b[0m\n\u001b[1;32m      8\u001b[0m \u001b[0;32mexcept\u001b[0m \u001b[0mImportError\u001b[0m\u001b[0;34m:\u001b[0m\u001b[0;34m\u001b[0m\u001b[0;34m\u001b[0m\u001b[0m\n\u001b[0;32m----> 9\u001b[0;31m     raise ImportError(\n\u001b[0m\u001b[1;32m     10\u001b[0m         \u001b[0;34m\"Importing 'qutip.qip' requires the 'qutip_qip' package. Install it \"\u001b[0m\u001b[0;34m\u001b[0m\u001b[0;34m\u001b[0m\u001b[0m\n\u001b[1;32m     11\u001b[0m         \u001b[0;34m\"with `pip install qutip-qip` (for more details, go to \"\u001b[0m\u001b[0;34m\u001b[0m\u001b[0;34m\u001b[0m\u001b[0m\n",
            "\u001b[0;31mImportError\u001b[0m: Importing 'qutip.qip' requires the 'qutip_qip' package. Install it with `pip install qutip-qip` (for more details, go to https://qutip-qip.readthedocs.io/).",
            "",
            "\u001b[0;31m---------------------------------------------------------------------------\u001b[0;32m\nNOTE: If your import is failing due to a missing package, you can\nmanually install dependencies using either !pip or !apt.\n\nTo view examples of installing some common dependencies, click the\n\"Open Examples\" button below.\n\u001b[0;31m---------------------------------------------------------------------------\u001b[0m\n"
          ],
          "errorDetails": {
            "actions": [
              {
                "action": "open_url",
                "actionText": "Open Examples",
                "url": "/notebooks/snippets/importing_libraries.ipynb"
              }
            ]
          }
        }
      ]
    },
    {
      "cell_type": "markdown",
      "source": [
        "B — Örnek 2: İç çarpım\n",
        "⟨\n",
        "0\n",
        "∣\n",
        "𝜙\n",
        "⟩\n",
        "⟨0∣ϕ⟩ ve clonability\n",
        "Tekrar (her kütüphane için numpy yeterli; burada ortak küçük kod)"
      ],
      "metadata": {
        "id": "s1ian5s42ilz"
      }
    },
    {
      "cell_type": "code",
      "source": [
        "import numpy as np\n",
        "\n",
        "ket0 = np.array([1,0], complex)\n",
        "phi = (1/np.sqrt(2)) * np.array([1,1], complex)  # (|0>+|1>)/sqrt(2)\n",
        "\n",
        "overlap = np.vdot(ket0, phi)   # <0|phi>\n",
        "print(\"<0|phi> =\", overlap, \" (abs =\", abs(overlap), \")\")\n"
      ],
      "metadata": {
        "colab": {
          "base_uri": "https://localhost:8080/"
        },
        "id": "tCoDFNYr2j3g",
        "outputId": "2aa2ea88-cdb4-4244-8c79-0d6f8308f764"
      },
      "execution_count": 5,
      "outputs": [
        {
          "output_type": "stream",
          "name": "stdout",
          "text": [
            "<0|phi> = (0.7071067811865475+0j)  (abs = 0.7071067811865475 )\n"
          ]
        }
      ]
    },
    {
      "cell_type": "markdown",
      "source": [
        "C — Örnek 3: Baz durumları (|0>, |1>) CNOT ile “kopyalanabilir” — no-cloning ile çelişmez\n",
        "Cirq + Qiskit + QuTiP (tek örnek gösterim; burada numpy gösterimi)"
      ],
      "metadata": {
        "id": "0Y9JAC1U2kCi"
      }
    },
    {
      "cell_type": "code",
      "source": [
        "import numpy as np\n",
        "import cirq\n",
        "\n",
        "ket0 = np.array([1,0], complex)\n",
        "ket1 = np.array([0,1], complex)\n",
        "\n",
        "cnot = cirq.unitary(cirq.CNOT)\n",
        "\n",
        "# Uygula: |0>|0> -> ?\n",
        "res00 = cnot @ np.kron(ket0, ket0)\n",
        "res10 = cnot @ np.kron(ket1, ket0)\n",
        "\n",
        "print(\"CNOT |0>|0> =\", res00)  # beklenen |00>\n",
        "print(\"CNOT |1>|0> =\", res10)  # beklenen |11>\n"
      ],
      "metadata": {
        "colab": {
          "base_uri": "https://localhost:8080/"
        },
        "id": "K5TjAOzX2kKt",
        "outputId": "e090333c-c4d3-4b51-bcfb-909a20cc3096"
      },
      "execution_count": 6,
      "outputs": [
        {
          "output_type": "stream",
          "name": "stdout",
          "text": [
            "CNOT |0>|0> = [1.+0.j 0.+0.j 0.+0.j 0.+0.j]\n",
            "CNOT |1>|0> = [0.+0.j 0.+0.j 0.+0.j 1.+0.j]\n"
          ]
        }
      ]
    },
    {
      "cell_type": "markdown",
      "source": [
        "D — Örnek 4: Genel iki durum için overlap ilişkisi sayısal örnek\n",
        "\n",
        "(İspatın sayısal sınaması:\n",
        "⟨\n",
        "𝜓\n",
        "1\n",
        "∣\n",
        "𝜓\n",
        "2\n",
        "⟩\n",
        "⟨ψ\n",
        "1\n",
        "\t​\n",
        "\n",
        "∣ψ\n",
        "2\n",
        "\t​\n",
        "\n",
        "⟩ ve\n",
        "⟨\n",
        "𝜓\n",
        "1\n",
        "⊗\n",
        "𝜓\n",
        "1\n",
        "∣\n",
        "𝜓\n",
        "2\n",
        "⊗\n",
        "𝜓\n",
        "2\n",
        "⟩\n",
        "⟨ψ\n",
        "1\n",
        "\t​\n",
        "\n",
        "⊗ψ\n",
        "1\n",
        "\t​\n",
        "\n",
        "∣ψ\n",
        "2\n",
        "\t​\n",
        "\n",
        "⊗ψ\n",
        "2\n",
        "\t​\n",
        "\n",
        "⟩)"
      ],
      "metadata": {
        "id": "XKoOsB3K2kZX"
      }
    },
    {
      "cell_type": "code",
      "source": [
        "import numpy as np\n",
        "\n",
        "# iki keyfi normalized durum\n",
        "psi1 = np.array([0.8, 0.6j]); psi1 = psi1/np.linalg.norm(psi1)\n",
        "psi2 = np.array([0.3+0.4j, 0.85]); psi2 = psi2/np.linalg.norm(psi2)\n",
        "\n",
        "ov = np.vdot(psi1, psi2)   # <psi1|psi2>\n",
        "ov_tensor = np.vdot(np.kron(psi1, psi1), np.kron(psi2, psi2))  # <psi1⊗psi1 | psi2⊗psi2>\n",
        "\n",
        "print(\"<psi1|psi2> =\", ov)\n",
        "print(\"<psi1⊗psi1 | psi2⊗psi2> =\", ov_tensor)\n",
        "print(\"ov_tensor should equal ov**2 :\", ov**2)\n",
        "print(\"difference:\", ov_tensor - ov**2)\n"
      ],
      "metadata": {
        "colab": {
          "base_uri": "https://localhost:8080/"
        },
        "id": "qT8yvgC-2khR",
        "outputId": "ce4bb61d-281a-4dc5-eee5-57d2bbfa53cd"
      },
      "execution_count": 7,
      "outputs": [
        {
          "output_type": "stream",
          "name": "stdout",
          "text": [
            "<psi1|psi2> = (0.24336966075042904-0.19266764809408965j)\n",
            "<psi1⊗psi1 | psi2⊗psi2> = (0.02210796915167096-0.09377892030848323j)\n",
            "ov_tensor should equal ov**2 : (0.02210796915167095-0.09377892030848328j)\n",
            "difference: (6.938893903907228e-18+5.551115123125783e-17j)\n"
          ]
        }
      ]
    }
  ]
}